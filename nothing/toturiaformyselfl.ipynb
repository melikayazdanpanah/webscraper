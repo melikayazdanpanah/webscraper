{
 "cells": [
  {
   "cell_type": "markdown",
   "metadata": {},
   "source": [
    "manual extraction is a very good way for websites that having good anti-scraping like bot detection.\n",
    "\n",
    "When one makes a request to a URI, it returns a response. Python requests provide inbuilt functionalities for managing both the request and response."
   ]
  },
  {
   "cell_type": "markdown",
   "metadata": {},
   "source": [
    "How to make GET request through Python Requests\n",
    "Python’s requests module provides in-built method called get() for making a GET request to a specified URI.\n",
    "\n",
    "\n",
    "\n",
    "requests.get(url, params={key: value}, args)"
   ]
  },
  {
   "cell_type": "markdown",
   "metadata": {},
   "source": [
    "GET method is used to retrieve information from the given server using a given URI."
   ]
  },
  {
   "cell_type": "markdown",
   "metadata": {},
   "source": [
    "POST request method requests that a web server accepts the data enclosed in the body of the request message, most likely for storing it\n",
    "\n",
    "The PUT method requests that the enclosed entity be stored under the supplied URI. If the URI refers to an already existing resource, it is modified and if the URI does not point to an existing resource, then the server can create the resource with that URI.\n",
    "\n",
    "POST\tPOST request method requests that a web server accepts the data enclosed in the body of the request message, most likely for storing it\n",
    "PUT\tThe PUT method requests that the enclosed entity be stored under the supplied URI. If the URI refers to an already existing resource, it is modified and if the URI does not point to an existing resource, then the server can create the resource with that URI.\n",
    "DELETE\tThe DELETE method deletes the specified resource\n",
    "HEAD\tThe HEAD method asks for a response identical to that of a GET request, but without the response body.\n",
    "PATCH\tIt is used for modify capabilities. The PATCH request only needs to contain the changes to the resource, not the complete resource"
   ]
  },
  {
   "cell_type": "markdown",
   "metadata": {},
   "source": [
    "response.headers\t   response.headers returns a dictionary of response headers.\n",
    "\n",
    "\n",
    "response.encoding   \tresponse.encoding returns the encoding used to decode response.content.\n",
    "\n",
    "\n",
    "response.elapsed\tresponse.elapsed returns a timedelta object with the time elapsed from sending the request to the arrival of the response.\n",
    "\n",
    "\n",
    "response.close()\tresponse.close() closes the connection to the server.\n",
    "\n",
    "\n",
    "response.content\tresponse.content returns the content of the response, in bytes.\n",
    "\n",
    "\n",
    "response.cookies\tresponse.cookies returns a CookieJar object with the cookies sent back from the server.\n",
    "\n",
    "\n",
    "response.history\tresponse.history returns a list of response objects holding the history of request (url).\n",
    "\n",
    "\n",
    "response.is_permanent_redirect\tresponse.is_permanent_redirect returns True if the response is the permanent redirected url, otherwise False.\n",
    "\n",
    "\n",
    "response.is_redirect\tresponse.is_redirect returns True if the response was redirected, otherwise False.\n",
    "\n",
    "\n",
    "response.iter_content()\tresponse.iter_content() iterates over the response.content.\n",
    "\n",
    "\n",
    "response.json()\tresponse.json() returns a JSON object of the result (if the result was written in JSON format, if not it raises an error).\n",
    "\n",
    "\n",
    "response.url\tresponse.url returns the URL of the response.\n",
    "\n",
    "\n",
    "response.text\tresponse.text returns the content of the response, in unicode.\n",
    "\n",
    "\n",
    "response.status_code\tresponse.status_code returns a number that indicates the status (200 is OK, 404 is Not Found).\n",
    "\n",
    "\n",
    "response.request\tresponse.request returns the request object that requested this response.\n",
    "\n",
    "\n",
    "response.reason\tresponse.reason returns a text corresponding to the status code.\n",
    "\n",
    "\n",
    "response.raise_for_status()\tresponse.raise_for_status() returns an HTTPError object if an error has occurred during the process.\n",
    "\n",
    "\n",
    "response.ok\tresponse.ok returns True if status_code is less than 200, otherwise False.\n",
    "\n",
    "\n",
    "response.links\tresponse.links returns the header links."
   ]
  }
 ],
 "metadata": {
  "kernelspec": {
   "display_name": "Python 3",
   "language": "python",
   "name": "python3"
  },
  "language_info": {
   "codemirror_mode": {
    "name": "ipython",
    "version": 3
   },
   "file_extension": ".py",
   "mimetype": "text/x-python",
   "name": "python",
   "nbconvert_exporter": "python",
   "pygments_lexer": "ipython3",
   "version": "3.11.9"
  }
 },
 "nbformat": 4,
 "nbformat_minor": 2
}
